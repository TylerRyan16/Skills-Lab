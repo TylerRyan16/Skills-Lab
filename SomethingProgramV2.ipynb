{
 "cells": [
  {
   "cell_type": "code",
   "execution_count": 5,
   "metadata": {},
   "outputs": [
    {
     "name": "stdout",
     "output_type": "stream",
     "text": [
      "What is your name?\n"
     ]
    },
    {
     "name": "stdin",
     "output_type": "stream",
     "text": [
      " Tyler\n"
     ]
    },
    {
     "name": "stdout",
     "output_type": "stream",
     "text": [
      "How old are you?\n"
     ]
    },
    {
     "name": "stdin",
     "output_type": "stream",
     "text": [
      " 18\n"
     ]
    },
    {
     "name": "stdout",
     "output_type": "stream",
     "text": [
      "Hello, Tyler, you are in prime time!\n",
      "What color is your hair?\n"
     ]
    },
    {
     "name": "stdin",
     "output_type": "stream",
     "text": [
      " Brown\n"
     ]
    },
    {
     "name": "stdout",
     "output_type": "stream",
     "text": [
      "Brown\n",
      "Options are brown, blonde, black, and red. If your hair isn't any of those colors, too bad.\n"
     ]
    }
   ],
   "source": [
    "print(\"What is your name?\")\n",
    "name = input()\n",
    "\n",
    "print(\"How old are you?\")\n",
    "age = input()\n",
    "age = int(age)\n",
    "\n",
    "def ageOutputs(age):\n",
    "    if age < 18:\n",
    "        print(\"Hello,\", name + \", you have a long life ahead of you.\")\n",
    "    elif age >= 18 and age <= 30:\n",
    "        print(\"Hello,\", name + \", you are in prime time!\")\n",
    "    elif age > 30 and age < 100:\n",
    "        print(\"It's all down hill from here,\", name + \".\")\n",
    "    elif age >= 100:\n",
    "        print(\"I'm impressed,\", name + \", what is your secret?\")\n",
    "        \n",
    "ageOutputs(age)\n",
    "\n",
    "print(\"What color is your hair?\")\n",
    "hair = input()\n",
    "hair.lower()\n",
    "print(hair)\n",
    "\n",
    "def hairOutputs(hair):\n",
    "    if hair == \"brown\":\n",
    "        print(\"Hey, that's my hair color!\")\n",
    "    elif hair == \"blonde\":\n",
    "        print(\"I used to have blonde hair.... used to\")\n",
    "    elif hair == \"black\":\n",
    "        print(\"I dyed my hair black once. Immediate regret.\")\n",
    "    elif hair == \"red\":\n",
    "        print(\"Never had red hair. It's probably gonna stay that way.\")\n",
    "    else:\n",
    "        print(\"Options are brown, blonde, black, and red. If your hair isn't any of those colors, too bad.\")\n",
    "        \n",
    "hairOutputs(hair)"
   ]
  },
  {
   "cell_type": "code",
   "execution_count": null,
   "metadata": {},
   "outputs": [],
   "source": []
  }
 ],
 "metadata": {
  "kernelspec": {
   "display_name": "Python 3",
   "language": "python",
   "name": "python3"
  },
  "language_info": {
   "codemirror_mode": {
    "name": "ipython",
    "version": 3
   },
   "file_extension": ".py",
   "mimetype": "text/x-python",
   "name": "python",
   "nbconvert_exporter": "python",
   "pygments_lexer": "ipython3",
   "version": "3.8.3"
  }
 },
 "nbformat": 4,
 "nbformat_minor": 4
}
